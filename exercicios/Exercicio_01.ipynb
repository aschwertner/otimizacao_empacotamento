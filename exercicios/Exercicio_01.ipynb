{
 "cells": [
  {
   "cell_type": "markdown",
   "id": "2a4d9106",
   "metadata": {},
   "source": [
    "# Exercício 01\n",
    "\n",
    "Considere uma faixa retangular de medidas $L = 8$ e $W = 6$, e os polígonos dados pelos vértices:\n",
    "$$\n",
    "Q = \\begin{bmatrix} (10, 0), (15, 0), (15, 5), (10, 5) \\end{bmatrix},\n",
    "$$\n",
    "e\n",
    "$$\n",
    "T = \\begin{bmatrix} (10, 6), (12, 6), (12, 8) \\end{bmatrix}.\n",
    "$$\n",
    "\n",
    "Considere o problema de dimensionar os polígonos dentro da faixa retangular sem que haja sobreposição."
   ]
  },
  {
   "cell_type": "code",
   "execution_count": null,
   "id": "a8b28939",
   "metadata": {},
   "outputs": [],
   "source": [
    "# Pacotes e funções úteis:\n",
    "\n",
    "using LinearAlgebra, JuMP, Ipopt\n",
    "\n",
    "include(\"./uteis/desenha.jl\")"
   ]
  },
  {
   "cell_type": "markdown",
   "id": "d08ee92f",
   "metadata": {},
   "source": [
    "### a) Desenhe o problema."
   ]
  },
  {
   "cell_type": "code",
   "execution_count": null,
   "id": "960c9a8f",
   "metadata": {},
   "outputs": [],
   "source": [
    "lista_circulos = []\n",
    "centro_circulos = [[]]\n",
    "lista_poligonos = [\n",
    "                    [10.0, 0.0, 15.0, 0.0, 15.0, 5.0, 10.0, 5.0],\n",
    "                    [10.0, 6.0, 12.0, 6.0, 12.0, 8.0]\n",
    "                    ]\n",
    "L = 8.0\n",
    "W = 6.0\n",
    "\n",
    "plota_problema(centro_circulos, lista_circulos, lista_poligonos, L, W)"
   ]
  },
  {
   "cell_type": "markdown",
   "id": "1f7f8586",
   "metadata": {},
   "source": [
    "### b) Modele e resolva o problema indicado conforme Peralta, Andretta e Oliveira."
   ]
  },
  {
   "cell_type": "code",
   "execution_count": null,
   "id": "37394c2f",
   "metadata": {},
   "outputs": [],
   "source": []
  },
  {
   "cell_type": "markdown",
   "id": "58147b92",
   "metadata": {},
   "source": [
    "### c) Desenhe a solução encontrada."
   ]
  },
  {
   "cell_type": "code",
   "execution_count": null,
   "id": "ec71cdc1",
   "metadata": {},
   "outputs": [],
   "source": []
  },
  {
   "cell_type": "markdown",
   "id": "fc4d50a6",
   "metadata": {},
   "source": [
    "### d) Desenhe, modele e resolva o problema através da triangularização dos quadrados. "
   ]
  },
  {
   "cell_type": "code",
   "execution_count": null,
   "id": "13b87695",
   "metadata": {},
   "outputs": [],
   "source": [
    "lista_circulos = []\n",
    "centro_circulos = [[]]\n",
    "lista_poligonos = [[\n",
    "                        [10.0, 0.0, 15.0, 0.0, 15.0, 5.0],\n",
    "                        [10.0, 0.0, 15.0, 5.0, 10.0, 5.0]\n",
    "                    ],[\n",
    "                        [10.0, 6.0, 12.0, 6.0, 12.0, 8.0]\n",
    "                    ]]\n",
    "L = 8.0\n",
    "W = 6.0\n",
    "\n",
    "plota_problema_cp(centro_circulos, lista_circulos, lista_poligonos, L, W)"
   ]
  },
  {
   "cell_type": "code",
   "execution_count": null,
   "id": "aa46c7a7",
   "metadata": {},
   "outputs": [],
   "source": []
  },
  {
   "cell_type": "markdown",
   "id": "c3d8fc8c",
   "metadata": {},
   "source": [
    "### e) Desenhe a solução encontrada. "
   ]
  },
  {
   "cell_type": "code",
   "execution_count": null,
   "id": "8487ff00",
   "metadata": {},
   "outputs": [],
   "source": []
  }
 ],
 "metadata": {
  "kernelspec": {
   "display_name": "Julia 1.6.1",
   "language": "julia",
   "name": "julia-1.6"
  },
  "language_info": {
   "file_extension": ".jl",
   "mimetype": "application/julia",
   "name": "julia",
   "version": "1.6.1"
  }
 },
 "nbformat": 4,
 "nbformat_minor": 5
}
