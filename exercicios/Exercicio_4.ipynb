{
 "cells": [
  {
   "cell_type": "markdown",
   "id": "c41b65fc",
   "metadata": {},
   "source": [
    "# Exercício 04"
   ]
  },
  {
   "cell_type": "code",
   "execution_count": 1,
   "id": "8fe5b6c0",
   "metadata": {},
   "outputs": [],
   "source": [
    "# Pacotes e funções úteis:\n",
    "\n",
    "using LinearAlgebra, JuMP, Ipopt\n",
    "\n",
    "include(\"./uteis/desenha.jl\");"
   ]
  },
  {
   "cell_type": "markdown",
   "id": "d9431fbc",
   "metadata": {},
   "source": [
    "Considere os seguintes polígonos dados pelos seus vértices:\n",
    "$$\n",
    "P_{1} = \\begin{bmatrix} (0, 2), (1, 2), (1, 1), (2, 1), (2, 4), (1, 4), (1, 3), (0, 3) \\end{bmatrix},\n",
    "$$\n",
    "$$\n",
    "P_{2} = \\begin{bmatrix} (3, 1), (4, 1), (4, 0), (6, 0), (6, 1), (5, 1), (5, 2), (3, 2) \\end{bmatrix},\n",
    "$$\n",
    "$$\n",
    "P_{3} = \\begin{bmatrix} (7, 0), (8, 0), (8, 4), (7, 4) \\end{bmatrix},\n",
    "$$\n",
    "$$\n",
    "P_{4} = \\begin{bmatrix} (9, 2), (10, 2), (10, 1), (11, 1), (11, 2), (12, 2), (12, 3), (9, 3) \\end{bmatrix},\n",
    "$$\n",
    "$$\n",
    "P_{5} = \\begin{bmatrix} (9, 4), (12, 4), (12, 6), (11, 6), (11, 5), (9, 5)\\end{bmatrix},\n",
    "$$\n",
    "$$\n",
    "P_{6} = \\begin{bmatrix} (7, 5), (8, 5), (8, 6), (9, 6), (9, 8), (8, 8), (8, 7), (7, 7) \\end{bmatrix},\n",
    "$$\n",
    "$$\n",
    "P_{7} = \\begin{bmatrix} (5, 6), (6, 6), (6, 8), (4, 8), (4, 7), (5, 7) \\end{bmatrix},\n",
    "$$\n",
    "$$\n",
    "P_{8} = \\begin{bmatrix} (4, 3), (6, 3), (6, 5), (4, 5) \\end{bmatrix},\n",
    "$$\n",
    "e\n",
    "$$\n",
    "P_{9} = \\begin{bmatrix} (0, 5), (3, 5), (3, 7), (2, 7), (2, 6), (1, 6), (1, 7), (0, 7) \\end{bmatrix},\n",
    "$$"
   ]
  },
  {
   "cell_type": "markdown",
   "id": "08e18540",
   "metadata": {},
   "source": [
    "1. Qual a menor faixa retangular com a qual seja possível dispor os objetos sem que haja sobreposição? Modele o problema utilizando apenas triângulos. Plote o problema e a solução encontrada."
   ]
  },
  {
   "cell_type": "code",
   "execution_count": null,
   "id": "74b4ed26",
   "metadata": {},
   "outputs": [],
   "source": []
  },
  {
   "cell_type": "markdown",
   "id": "2c229652",
   "metadata": {},
   "source": [
    "2. Agora, tente responder a mesma pergunta, mas modele o problema empregando o menor número possível de conponentes convexas. Plote o problema e a solução encontrada."
   ]
  },
  {
   "cell_type": "code",
   "execution_count": null,
   "id": "9eb09376",
   "metadata": {},
   "outputs": [],
   "source": []
  },
  {
   "cell_type": "markdown",
   "id": "9c1019b5",
   "metadata": {},
   "source": [
    "3. Qual o impacto da mudança na modelagem na resolução do problema? Há alteração no número de avaliações de função? E iterações?"
   ]
  },
  {
   "cell_type": "code",
   "execution_count": null,
   "id": "4ba1420a",
   "metadata": {},
   "outputs": [],
   "source": []
  }
 ],
 "metadata": {
  "kernelspec": {
   "display_name": "Julia 1.6.1",
   "language": "julia",
   "name": "julia-1.6"
  },
  "language_info": {
   "file_extension": ".jl",
   "mimetype": "application/julia",
   "name": "julia",
   "version": "1.6.1"
  }
 },
 "nbformat": 4,
 "nbformat_minor": 5
}
