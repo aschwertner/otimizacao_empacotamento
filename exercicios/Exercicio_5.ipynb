{
 "cells": [
  {
   "cell_type": "markdown",
   "id": "c41b65fc",
   "metadata": {},
   "source": [
    "# Exercício 05"
   ]
  },
  {
   "cell_type": "code",
   "execution_count": 1,
   "id": "8fe5b6c0",
   "metadata": {},
   "outputs": [],
   "source": [
    "# Pacotes e funções úteis:\n",
    "\n",
    "using LinearAlgebra, JuMP, Ipopt\n",
    "\n",
    "include(\"./uteis/desenha.jl\");"
   ]
  },
  {
   "cell_type": "markdown",
   "id": "d9431fbc",
   "metadata": {},
   "source": [
    "Considere os seguintes polígonos dados pelos seus vértices:\n",
    "$$\n",
    "P_{1} = \\begin{bmatrix} (25, 0), (26, 0), (25, 1) \\end{bmatrix},\n",
    "$$\n",
    "$$\n",
    "P_{2} = \\begin{bmatrix} (22, 0), (24, 0), (23, 1) \\end{bmatrix},\n",
    "$$\n",
    "$$\n",
    "P_{3} = \\begin{bmatrix} (17, 0), (21, 0), (18, 2), (17, 2) \\end{bmatrix},\n",
    "$$\n",
    "$$\n",
    "P_{4} = \\begin{bmatrix} (12, 0), (16, 0), (16, 4), (15, 4), (15, 3), (14, 3), (14, 2), (13, 2), (13, 1), (12, 1) \\end{bmatrix},\n",
    "$$\n",
    "e\n",
    "$$\n",
    "P_{5} = \\begin{bmatrix} (12, 5), (13, 5), (13, 7), (21, 7), (21, 4), (19, 4), (19, 6), (18, 6), (18, 3), (22, 3), (22, 8), (12, 8) \\end{bmatrix},\n",
    "$$\n",
    "Considere também os círculos com centros em $(1, 1)$, $(2, 2)$ e $(3, 3)$, de raios $1$, $2$ e $3$, respectivamente."
   ]
  },
  {
   "cell_type": "markdown",
   "id": "08e18540",
   "metadata": {},
   "source": [
    "1. Qual a menor faixa retangular com a qual seja possível dispor os objetos sem que haja sobreposição? Modele o problema utilizando apenas triângulos. Plote o problema e a solução encontrada."
   ]
  },
  {
   "cell_type": "code",
   "execution_count": null,
   "id": "74b4ed26",
   "metadata": {},
   "outputs": [],
   "source": []
  },
  {
   "cell_type": "markdown",
   "id": "2c229652",
   "metadata": {},
   "source": [
    "2. Agora, tente responder a mesma pergunta, mas modele o problema empregando o menor número possível de conponentes convexas. Plote o problema e a solução encontrada."
   ]
  },
  {
   "cell_type": "code",
   "execution_count": null,
   "id": "9eb09376",
   "metadata": {},
   "outputs": [],
   "source": []
  },
  {
   "cell_type": "markdown",
   "id": "9c1019b5",
   "metadata": {},
   "source": [
    "3. Qual o impacto da mudança na modelagem na resolução do problema? Há alteração no número de avaliações de função? E iterações?"
   ]
  },
  {
   "cell_type": "code",
   "execution_count": null,
   "id": "4ba1420a",
   "metadata": {},
   "outputs": [],
   "source": []
  }
 ],
 "metadata": {
  "kernelspec": {
   "display_name": "Julia 1.6.1",
   "language": "julia",
   "name": "julia-1.6"
  },
  "language_info": {
   "file_extension": ".jl",
   "mimetype": "application/julia",
   "name": "julia",
   "version": "1.6.1"
  }
 },
 "nbformat": 4,
 "nbformat_minor": 5
}
