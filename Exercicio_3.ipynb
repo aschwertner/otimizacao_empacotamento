{
 "cells": [
  {
   "cell_type": "markdown",
   "id": "c41b65fc",
   "metadata": {},
   "source": [
    "# Exercício 03"
   ]
  },
  {
   "cell_type": "code",
   "execution_count": 3,
   "id": "8fe5b6c0",
   "metadata": {},
   "outputs": [],
   "source": [
    "# Pacotes e funções úteis:\n",
    "\n",
    "using LinearAlgebra, JuMP, Ipopt\n",
    "\n",
    "include(\"./uteis/desenha.jl\");"
   ]
  },
  {
   "cell_type": "markdown",
   "id": "d9431fbc",
   "metadata": {},
   "source": [
    "Considere os seguintes polígonos dados pelos seus vértices:\n",
    "$$\n",
    "P_{1} = \\begin{bmatrix} (0, 0), (2, 0), (2, 2), (0, 2) \\end{bmatrix},\n",
    "$$\n",
    "$$\n",
    "P_{2} = \\begin{bmatrix} (4, 0), (6, 0), (7, 1.73), (6, 3.46), (4, 3.46), (3, 1.73) \\end{bmatrix},\n",
    "$$\n",
    "e\n",
    "$$\n",
    "P_{2} = \\begin{bmatrix} (8, 2), (10, 0), (16,\n",
    "3), (15, 4), (11, 2), (9, 3)\\end{bmatrix}.\n",
    "$$\n",
    "Considere também os círculos com centros em $(2, 6)$ e $(6, 6)$, de raios $1$ e $2$, respectivamente."
   ]
  },
  {
   "cell_type": "markdown",
   "id": "08e18540",
   "metadata": {},
   "source": [
    "1. Qual a menor faixa retangular com a qual seja possível dispor os objetos sem que haja sobreposição? Modele o problema utilizando apenas triângulos. Plote o problema e a solução encontrada."
   ]
  },
  {
   "cell_type": "code",
   "execution_count": null,
   "id": "74b4ed26",
   "metadata": {},
   "outputs": [],
   "source": []
  },
  {
   "cell_type": "markdown",
   "id": "2c229652",
   "metadata": {},
   "source": [
    "2. Agora, tente responder a mesma pergunta, mas modele o problema empregando o menor número possível de conponentes convexas. Plote o problema e a solução encontrada."
   ]
  },
  {
   "cell_type": "code",
   "execution_count": null,
   "id": "9eb09376",
   "metadata": {},
   "outputs": [],
   "source": []
  },
  {
   "cell_type": "markdown",
   "id": "9c1019b5",
   "metadata": {},
   "source": [
    "3. Qual o impacto da mudança na modelagem na resolução do problema? Há alteração no número de avaliações de função? E iterações?"
   ]
  },
  {
   "cell_type": "code",
   "execution_count": 1,
   "id": "4ba1420a",
   "metadata": {},
   "outputs": [
    {
     "name": "stdout",
     "output_type": "stream",
     "text": [
      "3"
     ]
    },
    {
     "ename": "LoadError",
     "evalue": "UndefVarError: translacao_poligono not defined",
     "output_type": "error",
     "traceback": [
      "UndefVarError: translacao_poligono not defined",
      "",
      "Stacktrace:",
      " [1] top-level scope",
      "   @ In[1]:11",
      " [2] eval",
      "   @ .\\boot.jl:368 [inlined]",
      " [3] include_string(mapexpr::typeof(REPL.softscope), mod::Module, code::String, filename::String)",
      "   @ Base .\\loading.jl:1428"
     ]
    }
   ],
   "source": [
    "# Plot do problema.\n",
    "\n",
    "poligonos = [\n",
    "    [[0.0 0.0; 2.0 0.0; 2.0 2.0; 0.0 2.0]], \n",
    "    [[4.0 0.0; 6.0 0.0; 7.0 1.73; 6.0 3.46; 4.0 3.46; 3.0 1.73]],\n",
    "    [[8.0 2.0; 10.0 0.0; 11.0 2.0; 9.0 3.0], [10.0 0.0; 16.0 3.0; 15.0 4.0; 11.0 2.0]]\n",
    "]\n",
    "print(size(poligonos)[1])\n",
    "circulos_r = [1, 2]\n",
    "circulos_c = [2.0 6.0; 6.0 6.0]\n",
    "print(translacao_poligono(poligonos))\n",
    "print(reta(poligonos))\n",
    "model = Model(Ipopt.Optimizer)\n",
    "@variable(model, L)\n",
    "@variable(model,W)\n",
    "@variable(model, xP[1:2])\n",
    "@variable(model, yP[1:2])\n",
    "@variable(model, theta_P[1:2])\n",
    "@variable(model,xC[1:2])\n",
    "@variable(model,yC[1:2])\n",
    "@variable(model, xL)\n",
    "@variable(model, yL)\n",
    "@variable(model, alpha_L)\n",
    "    \n",
    "\n",
    "\n",
    "#plota_problema(circulos_c, circulos_r, poligonos, 0, 0)"
   ]
  },
  {
   "cell_type": "code",
   "execution_count": 8,
   "id": "65e1a4e0",
   "metadata": {},
   "outputs": [
    {
     "data": {
      "text/latex": [
       "\\begin{verbatim}\n",
       "@NLexpression(args...)\n",
       "\\end{verbatim}\n",
       "Efficiently build a nonlinear expression which can then be inserted in other nonlinear constraints and the objective. See also [\\texttt{@expression}]. For example:\n",
       "\n",
       "\\begin{verbatim}\n",
       "@NLexpression(model, my_expr, sin(x)^2 + cos(x^2))\n",
       "@NLconstraint(model, my_expr + y >= 5)\n",
       "@NLobjective(model, Min, my_expr)\n",
       "\\end{verbatim}\n",
       "Indexing over sets and anonymous expressions are also supported:\n",
       "\n",
       "\\begin{verbatim}\n",
       "@NLexpression(m, my_expr_1[i=1:3], sin(i * x))\n",
       "my_expr_2 = @NLexpression(m, log(1 + sum(exp(x[i])) for i in 1:2))\n",
       "\\end{verbatim}\n"
      ],
      "text/markdown": [
       "```\n",
       "@NLexpression(args...)\n",
       "```\n",
       "\n",
       "Efficiently build a nonlinear expression which can then be inserted in other nonlinear constraints and the objective. See also [`@expression`]. For example:\n",
       "\n",
       "```julia\n",
       "@NLexpression(model, my_expr, sin(x)^2 + cos(x^2))\n",
       "@NLconstraint(model, my_expr + y >= 5)\n",
       "@NLobjective(model, Min, my_expr)\n",
       "```\n",
       "\n",
       "Indexing over sets and anonymous expressions are also supported:\n",
       "\n",
       "```julia\n",
       "@NLexpression(m, my_expr_1[i=1:3], sin(i * x))\n",
       "my_expr_2 = @NLexpression(m, log(1 + sum(exp(x[i])) for i in 1:2))\n",
       "```\n"
      ],
      "text/plain": [
       "\u001b[36m  @NLexpression(args...)\u001b[39m\n",
       "\n",
       "  Efficiently build a nonlinear expression which can then be inserted in other\n",
       "  nonlinear constraints and the objective. See also [\u001b[36m@expression\u001b[39m]. For\n",
       "  example:\n",
       "\n",
       "\u001b[36m  @NLexpression(model, my_expr, sin(x)^2 + cos(x^2))\u001b[39m\n",
       "\u001b[36m  @NLconstraint(model, my_expr + y >= 5)\u001b[39m\n",
       "\u001b[36m  @NLobjective(model, Min, my_expr)\u001b[39m\n",
       "\n",
       "  Indexing over sets and anonymous expressions are also supported:\n",
       "\n",
       "\u001b[36m  @NLexpression(m, my_expr_1[i=1:3], sin(i * x))\u001b[39m\n",
       "\u001b[36m  my_expr_2 = @NLexpression(m, log(1 + sum(exp(x[i])) for i in 1:2))\u001b[39m"
      ]
     },
     "execution_count": 8,
     "metadata": {},
     "output_type": "execute_result"
    }
   ],
   "source": [
    "?@NLexpression"
   ]
  },
  {
   "cell_type": "code",
   "execution_count": 445,
   "id": "9fa7b258",
   "metadata": {},
   "outputs": [
    {
     "data": {
      "text/plain": [
       "reta (generic function with 1 method)"
      ]
     },
     "execution_count": 445,
     "metadata": {},
     "output_type": "execute_result"
    }
   ],
   "source": []
  },
  {
   "cell_type": "raw",
   "id": "9e868923",
   "metadata": {},
   "source": [
    "print(reta(poligonos)"
   ]
  },
  {
   "cell_type": "code",
   "execution_count": 470,
   "id": "068ce74d",
   "metadata": {},
   "outputs": [
    {
     "data": {
      "text/plain": [
       "cosseno_model (generic function with 1 method)"
      ]
     },
     "execution_count": 470,
     "metadata": {},
     "output_type": "execute_result"
    }
   ],
   "source": [
    " using Ipopt, JuMP\n",
    "function cosseno_model(lista_poligono,ang,xp,yp)\n",
    "\n",
    "\n",
    "    np = length(lista_poligono)\n",
    "    nalpha = length(ang)\n",
    "    nx = length(xp)\n",
    "    ny = length(yp)\n",
    "    for i = 1:np\n",
    "        for j = 1:nalpha\n",
    "            for k = 1:nx\n",
    "            @NLexpression(model, Nle1[i][h=1:n], \n",
    "                    Poligono[i][h, 1] * cos(theta_P[j]) - Poligono[i][h, 2] * sin(theta_P[j]) + xP[k])\n",
    "            end\n",
    "        end\n",
    "    end\n",
    "     for i = 1:np\n",
    "        for j = 1:nalpha\n",
    "            for k = 1:ny\n",
    "            @NLexpression(model, Nle2[i][h=1:n], \n",
    "                    Poligono[i][h, 1] * sen(theta_P[j]) - Poligono[i][h, 2] * cos(theta_P[j]) + xP[k])\n",
    "            end\n",
    "        end\n",
    "    end\n",
    "    return Nle1, Nle2\n",
    "end\n",
    "    \n",
    "    \n",
    "\n",
    "\n",
    "                \n"
   ]
  },
  {
   "cell_type": "code",
   "execution_count": 460,
   "id": "60db1b11",
   "metadata": {},
   "outputs": [
    {
     "name": "stdout",
     "output_type": "stream",
     "text": [
      "[[[0.0 0.0; 2.0 0.0]], [[4.0 0.0; 6.0 0.0]], [[8.0 2.0; 10.0 0.0], [10.0 0.0; 16.0 3.0]]]"
     ]
    }
   ],
   "source": [
    "print(eta(poligonos))\n",
    "\n"
   ]
  },
  {
   "cell_type": "code",
   "execution_count": null,
   "id": "7f25bb9c",
   "metadata": {},
   "outputs": [],
   "source": []
  }
 ],
 "metadata": {
  "kernelspec": {
   "display_name": "Julia 1.8.2",
   "language": "julia",
   "name": "julia-1.8"
  },
  "language_info": {
   "file_extension": ".jl",
   "mimetype": "application/julia",
   "name": "julia",
   "version": "1.8.2"
  }
 },
 "nbformat": 4,
 "nbformat_minor": 5
}
